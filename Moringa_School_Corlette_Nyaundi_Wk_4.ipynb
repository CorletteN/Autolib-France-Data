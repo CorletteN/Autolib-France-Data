{
  "nbformat": 4,
  "nbformat_minor": 0,
  "metadata": {
    "colab": {
      "name": "Moringa_School_Corlette_Nyaundi_Wk_4.ipynb",
      "provenance": [],
      "authorship_tag": "ABX9TyMJYBYezQ4lLEGktxII/ixy",
      "include_colab_link": true
    },
    "kernelspec": {
      "name": "python3",
      "display_name": "Python 3"
    }
  },
  "cells": [
    {
      "cell_type": "markdown",
      "metadata": {
        "id": "view-in-github",
        "colab_type": "text"
      },
      "source": [
        "<a href=\"https://colab.research.google.com/github/CorletteN/IP4/blob/main/Moringa_School_Corlette_Nyaundi_Wk_4.ipynb\" target=\"_parent\"><img src=\"https://colab.research.google.com/assets/colab-badge.svg\" alt=\"Open In Colab\"/></a>"
      ]
    },
    {
      "cell_type": "code",
      "metadata": {
        "id": "1ZL3Ja46vshk"
      },
      "source": [
        "# Import the necessary python libraries\r\n",
        "import pandas as pd\r\n",
        "import numpy as np\r\n"
      ],
      "execution_count": 1,
      "outputs": []
    },
    {
      "cell_type": "code",
      "metadata": {
        "id": "28shjw8F00rM"
      },
      "source": [
        "#Upload datasets into environment and create dataframe\r\n"
      ],
      "execution_count": null,
      "outputs": []
    }
  ]
}