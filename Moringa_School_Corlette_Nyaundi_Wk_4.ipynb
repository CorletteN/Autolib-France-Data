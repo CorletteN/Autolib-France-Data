{
  "nbformat": 4,
  "nbformat_minor": 0,
  "metadata": {
    "colab": {
      "name": "Moringa_School_Corlette_Nyaundi_Wk_4.ipynb",
      "provenance": [],
      "toc_visible": true,
      "authorship_tag": "ABX9TyNcGhWIwOSRooZUlhxybMsy",
      "include_colab_link": true
    },
    "kernelspec": {
      "name": "python3",
      "display_name": "Python 3"
    }
  },
  "cells": [
    {
      "cell_type": "markdown",
      "metadata": {
        "id": "view-in-github",
        "colab_type": "text"
      },
      "source": [
        "<a href=\"https://colab.research.google.com/github/CorletteN/Autolib-France-Data/blob/main/Moringa_School_Corlette_Nyaundi_Wk_4.ipynb\" target=\"_parent\"><img src=\"https://colab.research.google.com/assets/colab-badge.svg\" alt=\"Open In Colab\"/></a>"
      ]
    },
    {
      "cell_type": "markdown",
      "metadata": {
        "id": "OfqpobFOdvtp"
      },
      "source": [
        "# Data Preparation"
      ]
    },
    {
      "cell_type": "code",
      "metadata": {
        "id": "1ZL3Ja46vshk"
      },
      "source": [
        "# Import the necessary python libraries\r\n",
        "import pandas as pd\r\n",
        "import numpy as np\r\n"
      ],
      "execution_count": null,
      "outputs": []
    },
    {
      "cell_type": "code",
      "metadata": {
        "id": "28shjw8F00rM"
      },
      "source": [
        "#Upload datasets into environment and create dataframe\r\n",
        "df = pd.read_csv('Autolib_dataset.csv')"
      ],
      "execution_count": null,
      "outputs": []
    },
    {
      "cell_type": "markdown",
      "metadata": {
        "id": "ikKy3blcd9mQ"
      },
      "source": [
        "# **1.0 Reading Dataset from CSV**"
      ]
    },
    {
      "cell_type": "markdown",
      "metadata": {
        "id": "aWycrGMaeK6G"
      },
      "source": [
        "The data and the dataset description for this Independent project is available [http://bit.ly/autolib_dataset (Links to an external site.)] and here respectively [Link] \r\n",
        "Description: The dataset contains data collected for a period of 9 days."
      ]
    },
    {
      "cell_type": "code",
      "metadata": {
        "id": "YeOSO3vZeRvI"
      },
      "source": [
        "#Upload datasets into environment, read the data from CSV and create dataframe\r\n",
        "df = pd.read_csv('/content/Autolib_dataset.csv')"
      ],
      "execution_count": null,
      "outputs": []
    },
    {
      "cell_type": "markdown",
      "metadata": {
        "id": "4onO59MCd-v0"
      },
      "source": [
        "# **1.1 Dataset Preview**"
      ]
    },
    {
      "cell_type": "markdown",
      "metadata": {
        "id": "DbBiT6szd_RE"
      },
      "source": [
        "# **1.2 Get to know the dataset**\r\n",
        "\r\n"
      ]
    },
    {
      "cell_type": "markdown",
      "metadata": {
        "id": "32aYW-eSd_w3"
      },
      "source": [
        "# **1.3 Let's get cleaning**"
      ]
    },
    {
      "cell_type": "markdown",
      "metadata": {
        "id": "qO_mtqRceAI7"
      },
      "source": [
        "####1.3.1 Validity"
      ]
    },
    {
      "cell_type": "markdown",
      "metadata": {
        "id": "-DrXgCBceAib"
      },
      "source": [
        "####1.3.2 Accuracy & Uniformity"
      ]
    },
    {
      "cell_type": "markdown",
      "metadata": {
        "id": "uf5hugeQeBAM"
      },
      "source": [
        "###1.3.3 Completeness"
      ]
    },
    {
      "cell_type": "markdown",
      "metadata": {
        "id": "TVs4y9tOeBUd"
      },
      "source": [
        "###1.3.4 Consistency"
      ]
    }
  ]
}